{
 "cells": [
  {
   "cell_type": "markdown",
   "id": "89c8a7b1-9e50-4990-8508-36b705cd9e3c",
   "metadata": {},
   "source": [
    "# Matplotlib"
   ]
  },
  {
   "attachments": {},
   "cell_type": "markdown",
   "id": "3ea8234a-7788-4a8b-88fb-bda64a4aff3b",
   "metadata": {},
   "source": [
    "<img src=\"./images/matplotlib_image.webp\" width=600>\n",
    "Anatomy of a Figure, https://matplotlib.org/3.1.1/gallery/showcase/anatomy.html"
   ]
  },
  {
   "cell_type": "code",
   "execution_count": 4,
   "id": "2483729a",
   "metadata": {},
   "outputs": [],
   "source": [
    "import matplotlib.pyplot as plt"
   ]
  },
  {
   "cell_type": "markdown",
   "id": "0c72abab",
   "metadata": {},
   "source": [
    "A list of numbers into a graphic"
   ]
  },
  {
   "cell_type": "code",
   "execution_count": 5,
   "id": "b695a123-8f5d-4957-8713-772d2506841f",
   "metadata": {},
   "outputs": [],
   "source": [
    "x = [1, 2, 3, 4]\n",
    "y = [10, 11, 12, 13]"
   ]
  },
  {
   "cell_type": "code",
   "execution_count": 6,
   "id": "968893ed-fae5-43fd-b1ad-437f13244e6b",
   "metadata": {},
   "outputs": [
    {
     "data": {
      "text/plain": [
       "[<matplotlib.lines.Line2D at 0x7fb3f0e1b790>]"
      ]
     },
     "execution_count": 6,
     "metadata": {},
     "output_type": "execute_result"
    },
    {
     "data": {
      "image/png": "[encoded data removed]",
      "text/plain": [
       "<Figure size 432x288 with 1 Axes>"
      ]
     },
     "metadata": {
      "needs_background": "light"
     },
     "output_type": "display_data"
    }
   ],
   "source": [
    "plt.plot(x,y)"
   ]
  },
  {
   "cell_type": "code",
   "execution_count": 7,
   "id": "f03caffe-39cb-4816-ae8d-4857add425ef",
   "metadata": {},
   "outputs": [
    {
     "data": {
      "text/plain": [
       "[<matplotlib.lines.Line2D at 0x7fb3f0ed3f10>]"
      ]
     },
     "execution_count": 7,
     "metadata": {},
     "output_type": "execute_result"
    },
    {
     "data": {
      "image/png": "[encoded data removed]",
      "text/plain": [
       "<Figure size 432x288 with 1 Axes>"
      ]
     },
     "metadata": {
      "needs_background": "light"
     },
     "output_type": "display_data"
    }
   ],
   "source": [
    "plt.plot(x,y,'ro')"
   ]
  },
  {
   "cell_type": "code",
   "execution_count": 8,
   "id": "272ee138-49a3-42f7-9ee1-860426b90009",
   "metadata": {},
   "outputs": [
    {
     "data": {
      "text/plain": [
       "<BarContainer object of 4 artists>"
      ]
     },
     "execution_count": 8,
     "metadata": {},
     "output_type": "execute_result"
    },
    {
     "data": {
      "image/png": "[encoded data removed]",
      "text/plain": [
       "<Figure size 432x288 with 1 Axes>"
      ]
     },
     "metadata": {
      "needs_background": "light"
     },
     "output_type": "display_data"
    }
   ],
   "source": [
    "plt.bar(x,y)"
   ]
  },
  {
   "cell_type": "code",
   "execution_count": null,
   "id": "556c79f1-9aea-492c-8001-22d8f7e4ed69",
   "metadata": {},
   "outputs": [],
   "source": [
    "plt.scatter(x,y,color='r')"
   ]
  },
  {
   "cell_type": "markdown",
   "id": "b2db3e25-e7fe-4a41-bb01-b259faeb9fa8",
   "metadata": {},
   "source": [
    "Just so you see it, there are two main ways to create plots in matplotlib\n",
    "\n",
    "1. Use matplotlib.pyplot (which here is aliased as plt) -- this is the higher-level and easier to use module\n",
    "2. Use figure and axes objects (objects in the object-oriented programming sense) to manipulate the graphical object you see"
   ]
  },
  {
   "cell_type": "code",
   "execution_count": null,
   "id": "df8be9fc-c6bb-45ff-af2b-ba0ea5c595b0",
   "metadata": {},
   "outputs": [],
   "source": [
    "# the object way\n",
    "fig = plt.figure()\n",
    "ax = fig.add_subplot(111)\n",
    "\n",
    "ax.plot(x,y)"
   ]
  },
  {
   "cell_type": "code",
   "execution_count": null,
   "id": "14e5ab5f-bea1-4171-a9cb-5340a081a5c0",
   "metadata": {},
   "outputs": [],
   "source": [
    "fig = plt.figure(figsize=(8,8))\n",
    "ax = fig.add_subplot(1, 1, 1)\n",
    "\n",
    "ax.plot(x,y)"
   ]
  },
  {
   "cell_type": "code",
   "execution_count": null,
   "id": "190e4f6e-0773-4070-a83f-c9af9ef79733",
   "metadata": {},
   "outputs": [],
   "source": [
    "fig,ax = plt.subplots(1,2,figsize=(8,4))\n",
    "\n",
    "x = [1,2,3,4]\n",
    "y1 = [1,2,3,4]\n",
    "y2 = [1,4,9,16]\n",
    "\n",
    "ax[0].plot(x,y1)\n",
    "ax[1].plot(x,y2,color='blue', linestyle='--', linewidth=2)\n",
    "\n",
    "plt.show()"
   ]
  },
  {
   "cell_type": "markdown",
   "id": "c470739f-c8ae-40c8-97cd-e15e3ab6e300",
   "metadata": {},
   "source": [
    "Let's stick with plt for the moment (and later we'll migrate to pandas)"
   ]
  },
  {
   "cell_type": "code",
   "execution_count": null,
   "id": "396238e7-39d7-4b62-9251-62eaaac7b8ba",
   "metadata": {},
   "outputs": [],
   "source": [
    "x = np.linspace(0,2*np.pi,100)\n",
    "y = np.cos(x)\n",
    "plt.plot(x,y)"
   ]
  },
  {
   "cell_type": "code",
   "execution_count": null,
   "id": "789bb339-0678-4ba3-ae55-f244fa864216",
   "metadata": {},
   "outputs": [],
   "source": [
    "x = np.linspace(0,2*np.pi,100)\n",
    "y = np.cos(x)\n",
    "plt.figure(figsize=(8,5))\n",
    "plt.plot(x,y)"
   ]
  },
  {
   "cell_type": "code",
   "execution_count": null,
   "id": "81816fb9-1ff3-46e2-a3a1-a89917a4df9c",
   "metadata": {},
   "outputs": [],
   "source": [
    "x = np.linspace(0,2*np.pi,100)\n",
    "y = np.cos(x)\n",
    "plt.figure(figsize=(8,5))\n",
    "plt.plot(x,y)\n",
    "plt.xlim([0,2*np.pi])\n",
    "plt.xlabel('position')\n",
    "plt.ylabel('amplitude')\n",
    "plt.show()"
   ]
  },
  {
   "cell_type": "code",
   "execution_count": null,
   "id": "082f55f0-40dc-461e-b851-831f779e2be2",
   "metadata": {},
   "outputs": [],
   "source": [
    "# figure call first\n",
    "plt.figure(figsize=(8,5))\n",
    "\n",
    "# specification for scatter plot\n",
    "x2 = np.linspace(0,2*np.pi,10)\n",
    "y2 = np.cos(x2)\n",
    "plt.scatter(x2,y2,color='black')\n",
    "\n",
    "# specification for line plot -- more points so it looks smooth\n",
    "x1 = np.linspace(0,2*np.pi,100)\n",
    "y1 = np.cos(x)\n",
    "plt.plot(x,y)\n",
    "\n",
    "# specification for axes, labels, etc.\n",
    "plt.xlim([0,2*np.pi])\n",
    "plt.xlabel('position')\n",
    "plt.ylabel('amplitude')\n",
    "\n",
    "plt.show()"
   ]
  }
 ],
 "metadata": {
  "kernelspec": {
   "display_name": "Python 3 (ipykernel)",
   "language": "python",
   "name": "python3"
  },
  "language_info": {
   "codemirror_mode": {
    "name": "ipython",
    "version": 3
   },
   "file_extension": ".py",
   "mimetype": "text/x-python",
   "name": "python",
   "nbconvert_exporter": "python",
   "pygments_lexer": "ipython3",
   "version": "3.9.12"
  }
 },
 "nbformat": 4,
 "nbformat_minor": 5
}
