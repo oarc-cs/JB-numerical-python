{
 "cells": [
  {
   "cell_type": "markdown",
   "id": "d647c80c",
   "metadata": {},
   "source": [
    "# Ex. Solving an ODE with Numerical Modeling"
   ]
  },
  {
   "cell_type": "code",
   "execution_count": null,
   "id": "60809538",
   "metadata": {},
   "outputs": [],
   "source": [
    "import numpy as np\n",
    "import sympy\n",
    "from scipy import integrate\n",
    "import matplotlib.pyplot as plt\n",
    "import ipywidgets"
   ]
  },
  {
   "cell_type": "code",
   "execution_count": null,
   "id": "c3ca6d89",
   "metadata": {},
   "outputs": [],
   "source": [
    "sympy.init_printing()"
   ]
  },
  {
   "cell_type": "markdown",
   "id": "408fe669",
   "metadata": {},
   "source": [
    "## Harmonic Oscillator"
   ]
  },
  {
   "cell_type": "markdown",
   "id": "7a1ee246",
   "metadata": {},
   "source": [
    "### Numerical Manipulation (with SciPy)"
   ]
  },
  {
   "cell_type": "markdown",
   "id": "4ab47930",
   "metadata": {},
   "source": [
    "Equation:\n",
    "    \n",
    "$$\n",
    "\\left(\\frac{d^2}{dt^2} + \\omega_0^2\\right) x(t) = 0\n",
    "$$\n",
    "\n",
    "write this as two first-order equations\n",
    "\n",
    "$$\n",
    "x'(t) = y(t)\n",
    "$$\n",
    "$$\n",
    "y'(t) = \\omega_0^2 x(t)\n",
    "$$"
   ]
  }
 ],
 "metadata": {
  "kernelspec": {
   "display_name": "Python 3 (ipykernel)",
   "language": "python",
   "name": "python3"
  },
  "language_info": {
   "codemirror_mode": {
    "name": "ipython",
    "version": 3
   },
   "file_extension": ".py",
   "mimetype": "text/x-python",
   "name": "python",
   "nbconvert_exporter": "python",
   "pygments_lexer": "ipython3",
   "version": "3.9.12"
  }
 },
 "nbformat": 4,
 "nbformat_minor": 5
}
