{
 "cells": [
  {
   "cell_type": "markdown",
   "id": "8fecd981",
   "metadata": {},
   "source": [
    "# Intro to Python Libraries "
   ]
  },
  {
   "cell_type": "markdown",
   "id": "9f2aab3c",
   "metadata": {},
   "source": [
    "Python libraries give users access to modules that can perform certain functions without the user having to write their own code."
   ]
  },
  {
   "cell_type": "markdown",
   "id": "ccdde033",
   "metadata": {},
   "source": [
    "## Numpy"
   ]
  },
  {
   "cell_type": "markdown",
   "id": "14a8f4e4",
   "metadata": {},
   "source": [
    "https://numpy.org/\n",
    "\n",
    "NumPy is the fundamental package for numerical computation. It defines the numerical array and matrix types and basic operations on them.\n",
    "\n",
    "There is a wide range of mathematical functionality provided in the numpy library (See for example https://numpy.org/doc/stable/reference/routines.html)\n",
    "\n",
    "Some of key submodules include:\n",
    "* numpy.linalg - linear algebra\n",
    "* numpy.fft - Fourier transforms\n",
    "* numpy.random - random sampling and various distributions"
   ]
  },
  {
   "cell_type": "markdown",
   "id": "3481ee2a",
   "metadata": {},
   "source": [
    "## SciPy "
   ]
  },
  {
   "cell_type": "markdown",
   "id": "7dd726d7",
   "metadata": {},
   "source": [
    "The “SciPy ecosystem” of scientific computing in Python builds upon a small core of packages: https://www.scipy.org/about.html"
   ]
  },
  {
   "cell_type": "markdown",
   "id": "a7c3f1f5",
   "metadata": {},
   "source": [
    " https://www.scipy.org/\n",
    "\n",
    "* SciPy is the core package for scientific routines in Python \n",
    "* The SciPy library is a collection of numerical algorithms and domain-specific toolboxes, including signal processing, optimization, statistics, and much more.\n",
    "* it operates efficiently on numpy arrays and the two are intended to work together\n",
    "* Many sub-modules are available:\n",
    "  * *scipy.cluster* - Vector quantization / Kmeans\n",
    "  * *scipy.constants* - Physical and mathematical constants\n",
    "  * *scipy.fftpack* - Fourier transform\n",
    "  * *scipy.integrate* - Integration routines\n",
    "  * *scipy.interpolate* - Interpolation\n",
    "  * *scipy.io* - Data input and output\n",
    "  * *scipy.linalg* - Linear algebra routines\n",
    "  * *scipy.ndimage* - n-dimensional image package\n",
    "  * *scipy.odr* - Orthogonal distance regression\n",
    "  * *scipy.optimize* - Optimization\n",
    "  * *scipy.signal* - Signal processing\n",
    "  * *scipy.sparse* - Sparse matrices\n",
    "  * *scipy.spatial* - Spatial data structures and algorithms\n",
    "  * *scipy.special* - Any special mathematical functions\n",
    "  * *scipy.stats* - Statistics"
   ]
  },
  {
   "cell_type": "markdown",
   "id": "42928145",
   "metadata": {},
   "source": [
    "## Matplotlib"
   ]
  },
  {
   "cell_type": "markdown",
   "id": "97e3655a",
   "metadata": {},
   "source": [
    "https://matplotlib.org/\n",
    "\n",
    "\n",
    "* Matplotlib is a mature and popular plotting package that provides publication-quality 2-D plotting, as well as rudimentary 3-D plotting. \n",
    "* \"Matplotlib is a comprehensive library for creating static, animated, and interactive visualizations in Python.\"\n",
    "* \"Matplotlib makes easy things easy and hard things possible.\"\n",
    "* Matplotlib was built on the NumPy and SciPy frameworks and initially made to enable interactive Matlab-like plotting via gnuplot from iPython\n",
    "* Gained early traction with support from the Space Telescope Institute and JPL\n",
    "* Easily one of the go-to libraries for academic publishing needs\n",
    "  * Create publication-ready graphics in a range of formats\n",
    "  * Powerful options to customize all aspects of a figure \n",
    "* Matplotlib underlies the plotting capabilities of other libraries such as Pandas, Seaborn, and plotnine"
   ]
  },
  {
   "cell_type": "markdown",
   "id": "334c7a05",
   "metadata": {},
   "source": [
    "## Pandas"
   ]
  },
  {
   "cell_type": "markdown",
   "id": "80f258a9",
   "metadata": {},
   "source": [
    "https://pandas.pydata.org/\n",
    "\n",
    "Pandas data-manipulation capabilities are built on top of NumPy, utilizing its fast array processing, and its graphing capabilities are built on top of Matplotlib.\n",
    "\n",
    "* \"pandas is a fast, powerful, flexible and easy to use open source data analysis and manipulation tool, built on top of the Python programming language.\"\n",
    "\n",
    "* It may be one of the most widely used tools for data munging\n",
    "  * present data in nice formats\n",
    "  * multiple convenient methods for filtering data\n",
    "  * work with a variety of data formats (CSV, Excel, …)\n",
    "  * convenient functions for quickly plotting data\n",
    "\n",
    "* Name comes from panel data, also play on python data analysis\n",
    "\n",
    "Data manipulation in Python can be greatly facilitated with the Pandas library, and it may be one of the most widely used tools for data science.\n",
    "\n",
    "Pandas data-manipulation capabilities are built on top of NumPy, utilizing its fast array processing, and its graphing capabilities are built on top of Matplotlib."
   ]
  }
 ],
 "metadata": {
  "kernelspec": {
   "display_name": "Python 3 (ipykernel)",
   "language": "python",
   "name": "python3"
  },
  "language_info": {
   "codemirror_mode": {
    "name": "ipython",
    "version": 3
   },
   "file_extension": ".py",
   "mimetype": "text/x-python",
   "name": "python",
   "nbconvert_exporter": "python",
   "pygments_lexer": "ipython3",
   "version": "3.9.12"
  }
 },
 "nbformat": 4,
 "nbformat_minor": 5
}
