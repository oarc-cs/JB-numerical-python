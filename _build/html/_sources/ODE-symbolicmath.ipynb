{
 "cells": [
  {
   "cell_type": "markdown",
   "id": "7d80fa70",
   "metadata": {},
   "source": [
    "# Ex. Solving an ODE with Symbolic Math"
   ]
  },
  {
   "cell_type": "code",
   "execution_count": null,
   "id": "0d92555e",
   "metadata": {},
   "outputs": [],
   "source": [
    "import numpy as np\n",
    "import sympy\n",
    "from scipy import integrate\n",
    "import matplotlib.pyplot as plt\n",
    "import ipywidgets"
   ]
  },
  {
   "cell_type": "code",
   "execution_count": null,
   "id": "1e852532",
   "metadata": {},
   "outputs": [],
   "source": [
    "sympy.init_printing()"
   ]
  },
  {
   "cell_type": "markdown",
   "id": "b97ca419",
   "metadata": {},
   "source": [
    "## Harmonic Oscillator"
   ]
  },
  {
   "cell_type": "markdown",
   "id": "119aa75d",
   "metadata": {},
   "source": [
    "### Symbolic Manipulation (with SymPy)"
   ]
  },
  {
   "cell_type": "code",
   "execution_count": null,
   "id": "5642311f",
   "metadata": {},
   "outputs": [],
   "source": [
    "t = sympy.Symbol(\"t\")\n",
    "omega0 = sympy.Symbol(\"omega0\")\n",
    "x = sympy.Function('x')"
   ]
  },
  {
   "cell_type": "code",
   "execution_count": null,
   "id": "62dc6790",
   "metadata": {},
   "outputs": [],
   "source": [
    "ode = x(t).diff(t, 2) + omega0**2 * x(t)"
   ]
  },
  {
   "cell_type": "code",
   "execution_count": null,
   "id": "33401a3c",
   "metadata": {},
   "outputs": [],
   "source": [
    "ode"
   ]
  },
  {
   "cell_type": "code",
   "execution_count": null,
   "id": "449c3b1b",
   "metadata": {},
   "outputs": [],
   "source": [
    "ode_sol = sympy.dsolve(ode)"
   ]
  },
  {
   "cell_type": "code",
   "execution_count": null,
   "id": "4bf1f214",
   "metadata": {},
   "outputs": [],
   "source": [
    "ode_sol"
   ]
  },
  {
   "cell_type": "code",
   "execution_count": null,
   "id": "0f532641",
   "metadata": {},
   "outputs": [],
   "source": [
    "ode_sol.rhs"
   ]
  },
  {
   "cell_type": "code",
   "execution_count": null,
   "id": "cadcba26",
   "metadata": {},
   "outputs": [],
   "source": [
    "# initial conditions\n",
    "ics = {x(0): 2, x(t).diff(t).subs(t, 0): 3}"
   ]
  },
  {
   "cell_type": "code",
   "execution_count": null,
   "id": "8d494461",
   "metadata": {},
   "outputs": [],
   "source": [
    "ics"
   ]
  },
  {
   "cell_type": "code",
   "execution_count": null,
   "id": "8c019152",
   "metadata": {},
   "outputs": [],
   "source": [
    "ode_sol = sympy.dsolve(ode,ics=ics)"
   ]
  },
  {
   "cell_type": "code",
   "execution_count": null,
   "id": "11cf0189",
   "metadata": {},
   "outputs": [],
   "source": [
    "ode_sol"
   ]
  },
  {
   "cell_type": "code",
   "execution_count": null,
   "id": "b4facefd",
   "metadata": {},
   "outputs": [],
   "source": [
    "ode_sol.rewrite(sympy.cos).simplify()"
   ]
  },
  {
   "cell_type": "code",
   "execution_count": null,
   "id": "eb19bf0b",
   "metadata": {},
   "outputs": [],
   "source": [
    "ics"
   ]
  },
  {
   "cell_type": "code",
   "execution_count": null,
   "id": "337fcacd",
   "metadata": {},
   "outputs": [],
   "source": [
    "ode_sol = sympy.dsolve(ode)"
   ]
  },
  {
   "cell_type": "code",
   "execution_count": null,
   "id": "c6fdf477",
   "metadata": {},
   "outputs": [],
   "source": [
    "ode_sol"
   ]
  },
  {
   "cell_type": "code",
   "execution_count": null,
   "id": "07a730e9",
   "metadata": {},
   "outputs": [],
   "source": [
    "ode_sol.free_symbols"
   ]
  },
  {
   "cell_type": "code",
   "execution_count": null,
   "id": "b48228b7",
   "metadata": {},
   "outputs": [],
   "source": [
    "ode_sol.free_symbols - {omega0}"
   ]
  },
  {
   "cell_type": "code",
   "execution_count": null,
   "id": "c6292ee2",
   "metadata": {},
   "outputs": [],
   "source": [
    "(ode_sol.lhs.diff(t,0) - ode_sol.rhs.diff(t,0)).subs(t,0)"
   ]
  },
  {
   "cell_type": "code",
   "execution_count": null,
   "id": "c0470be3",
   "metadata": {},
   "outputs": [],
   "source": [
    "(ode_sol.lhs.diff(t,0) - ode_sol.rhs.diff(t,0)).subs(t,0).subs(ics)"
   ]
  },
  {
   "cell_type": "code",
   "execution_count": null,
   "id": "3aeca93c",
   "metadata": {},
   "outputs": [],
   "source": [
    "(ode_sol.lhs.diff(t,1) - ode_sol.rhs.diff(t,1)).subs(t,0)"
   ]
  },
  {
   "cell_type": "code",
   "execution_count": null,
   "id": "019a721b",
   "metadata": {},
   "outputs": [],
   "source": [
    "(ode_sol.lhs.diff(t,1) - ode_sol.rhs.diff(t,1)).subs(t,0).subs(ics)"
   ]
  },
  {
   "cell_type": "code",
   "execution_count": null,
   "id": "7ff9143a",
   "metadata": {},
   "outputs": [],
   "source": [
    "eqs = [(ode_sol.lhs.diff(t, n) - ode_sol.rhs.diff(t, n)).subs(t, 0).subs(ics)\n",
    "       for n in range(len(ics))]"
   ]
  },
  {
   "cell_type": "code",
   "execution_count": null,
   "id": "ab250315",
   "metadata": {},
   "outputs": [],
   "source": [
    "eqs"
   ]
  },
  {
   "cell_type": "code",
   "execution_count": null,
   "id": "9c41e52f",
   "metadata": {},
   "outputs": [],
   "source": [
    "ode_sol.free_symbols - {omega0}"
   ]
  },
  {
   "cell_type": "code",
   "execution_count": null,
   "id": "c994015c",
   "metadata": {},
   "outputs": [],
   "source": [
    "sympy.solve(eqs, ode_sol.free_symbols - set([omega0]))"
   ]
  },
  {
   "cell_type": "code",
   "execution_count": null,
   "id": "96708094",
   "metadata": {},
   "outputs": [],
   "source": [
    "sol_params = sympy.solve(eqs, ode_sol.free_symbols - set([omega0]))"
   ]
  },
  {
   "cell_type": "code",
   "execution_count": null,
   "id": "f8fac590",
   "metadata": {},
   "outputs": [],
   "source": [
    "x_t_sol = ode_sol.subs(sol_params)"
   ]
  },
  {
   "cell_type": "code",
   "execution_count": null,
   "id": "0fc9ae5b",
   "metadata": {},
   "outputs": [],
   "source": [
    "x_t_sol"
   ]
  },
  {
   "cell_type": "code",
   "execution_count": null,
   "id": "185c6331",
   "metadata": {},
   "outputs": [],
   "source": [
    "x_t_sol.rewrite(sympy.cos).simplify()"
   ]
  },
  {
   "cell_type": "markdown",
   "id": "0cb71cbd",
   "metadata": {},
   "source": [
    "Let's use lambdify to plot: \"The primary purpose of this function [lambdify] is to provide a bridge from SymPy expressions to numerical libraries such as NumPy, SciPy, NumExpr, mpmath, and tensorflow.\""
   ]
  },
  {
   "cell_type": "code",
   "execution_count": null,
   "id": "b84f9cc7",
   "metadata": {},
   "outputs": [],
   "source": [
    "square = sympy.lambdify(t, t**2)"
   ]
  },
  {
   "cell_type": "code",
   "execution_count": null,
   "id": "d52f55f9",
   "metadata": {},
   "outputs": [],
   "source": [
    "square(6)"
   ]
  },
  {
   "cell_type": "code",
   "execution_count": null,
   "id": "7de0bcfc",
   "metadata": {},
   "outputs": [],
   "source": [
    "np.linspace(0,1,10)"
   ]
  },
  {
   "cell_type": "code",
   "execution_count": null,
   "id": "b8471250",
   "metadata": {},
   "outputs": [],
   "source": [
    "square(np.linspace(0,1,10))"
   ]
  },
  {
   "cell_type": "code",
   "execution_count": null,
   "id": "6a41e647",
   "metadata": {},
   "outputs": [],
   "source": [
    "sympy.lambdify?"
   ]
  },
  {
   "cell_type": "code",
   "execution_count": null,
   "id": "d2f127b7",
   "metadata": {},
   "outputs": [],
   "source": [
    "expr_func = sympy.lambdify(t, x_t_sol.rhs.subs(omega0,1), 'numpy')"
   ]
  },
  {
   "cell_type": "code",
   "execution_count": null,
   "id": "7a9fac46",
   "metadata": {},
   "outputs": [],
   "source": [
    "xvalues = np.linspace(0, 10, 30)"
   ]
  },
  {
   "cell_type": "code",
   "execution_count": null,
   "id": "a4860870",
   "metadata": {},
   "outputs": [],
   "source": [
    "expr_func(xvalues)"
   ]
  },
  {
   "cell_type": "code",
   "execution_count": null,
   "id": "de3d8fc2",
   "metadata": {},
   "outputs": [],
   "source": [
    "plt.plot(xvalues,expr_func(xvalues));"
   ]
  }
 ],
 "metadata": {
  "kernelspec": {
   "display_name": "Python 3 (ipykernel)",
   "language": "python",
   "name": "python3"
  },
  "language_info": {
   "codemirror_mode": {
    "name": "ipython",
    "version": 3
   },
   "file_extension": ".py",
   "mimetype": "text/x-python",
   "name": "python",
   "nbconvert_exporter": "python",
   "pygments_lexer": "ipython3",
   "version": "3.9.12"
  }
 },
 "nbformat": 4,
 "nbformat_minor": 5
}
