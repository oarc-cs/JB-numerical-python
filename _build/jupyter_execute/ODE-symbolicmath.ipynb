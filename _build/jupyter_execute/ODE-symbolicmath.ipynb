{
 "cells": [
  {
   "cell_type": "markdown",
   "id": "7d80fa70",
   "metadata": {},
   "source": [
    "# Ex. Solving an ODE with Symbolic Math"
   ]
  },
  {
   "cell_type": "code",
   "execution_count": 1,
   "id": "0d92555e",
   "metadata": {},
   "outputs": [],
   "source": [
    "import numpy as np\n",
    "import sympy\n",
    "from scipy import integrate\n",
    "import matplotlib.pyplot as plt\n",
    "import ipywidgets"
   ]
  },
  {
   "cell_type": "code",
   "execution_count": 2,
   "id": "1e852532",
   "metadata": {},
   "outputs": [],
   "source": [
    "sympy.init_printing()"
   ]
  },
  {
   "cell_type": "markdown",
   "id": "b97ca419",
   "metadata": {},
   "source": [
    "## Harmonic Oscillator"
   ]
  },
  {
   "cell_type": "markdown",
   "id": "119aa75d",
   "metadata": {},
   "source": [
    "### Symbolic Manipulation (with SymPy)"
   ]
  },
  {
   "cell_type": "code",
   "execution_count": 3,
   "id": "5642311f",
   "metadata": {},
   "outputs": [],
   "source": [
    "t = sympy.Symbol(\"t\")\n",
    "omega0 = sympy.Symbol(\"omega0\")\n",
    "x = sympy.Function('x')"
   ]
  },
  {
   "cell_type": "code",
   "execution_count": 4,
   "id": "62dc6790",
   "metadata": {},
   "outputs": [],
   "source": [
    "ode = x(t).diff(t, 2) + omega0**2 * x(t)"
   ]
  },
  {
   "cell_type": "code",
   "execution_count": 5,
   "id": "33401a3c",
   "metadata": {},
   "outputs": [
    {
     "data": {
      "image/png": "[encoded data removed]",
      "text/latex": [
       "$\\displaystyle \\omega_{0}^{2} x{\\left(t \\right)} + \\frac{d^{2}}{d t^{2}} x{\\left(t \\right)}$"
      ],
      "text/plain": [
       "             2      \n",
       "  2         d       \n",
       "ω₀ ⋅x(t) + ───(x(t))\n",
       "             2      \n",
       "           dt       "
      ]
     },
     "execution_count": 5,
     "metadata": {
      "filenames": {
       "image/png": "/Users/bwinjum/git/JB-numerical-python/_build/jupyter_execute/ODE-symbolicmath_7_0.png"
      }
     },
     "output_type": "execute_result"
    }
   ],
   "source": [
    "ode"
   ]
  },
  {
   "cell_type": "code",
   "execution_count": 6,
   "id": "449c3b1b",
   "metadata": {},
   "outputs": [],
   "source": [
    "ode_sol = sympy.dsolve(ode)"
   ]
  },
  {
   "cell_type": "code",
   "execution_count": 7,
   "id": "4bf1f214",
   "metadata": {},
   "outputs": [
    {
     "data": {
      "image/png": "[encoded data removed]",
      "text/latex": [
       "$\\displaystyle x{\\left(t \\right)} = C_{1} e^{- i \\omega_{0} t} + C_{2} e^{i \\omega_{0} t}$"
      ],
      "text/plain": [
       "           -ⅈ⋅ω₀⋅t       ⅈ⋅ω₀⋅t\n",
       "x(t) = C₁⋅ℯ        + C₂⋅ℯ      "
      ]
     },
     "execution_count": 7,
     "metadata": {
      "filenames": {
       "image/png": "/Users/bwinjum/git/JB-numerical-python/_build/jupyter_execute/ODE-symbolicmath_9_0.png"
      }
     },
     "output_type": "execute_result"
    }
   ],
   "source": [
    "ode_sol"
   ]
  },
  {
   "cell_type": "code",
   "execution_count": 8,
   "id": "0f532641",
   "metadata": {},
   "outputs": [
    {
     "data": {
      "image/png": "[encoded data removed]",
      "text/latex": [
       "$\\displaystyle C_{1} e^{- i \\omega_{0} t} + C_{2} e^{i \\omega_{0} t}$"
      ],
      "text/plain": [
       "    -ⅈ⋅ω₀⋅t       ⅈ⋅ω₀⋅t\n",
       "C₁⋅ℯ        + C₂⋅ℯ      "
      ]
     },
     "execution_count": 8,
     "metadata": {
      "filenames": {
       "image/png": "/Users/bwinjum/git/JB-numerical-python/_build/jupyter_execute/ODE-symbolicmath_10_0.png"
      }
     },
     "output_type": "execute_result"
    }
   ],
   "source": [
    "ode_sol.rhs"
   ]
  },
  {
   "cell_type": "code",
   "execution_count": 9,
   "id": "cadcba26",
   "metadata": {},
   "outputs": [],
   "source": [
    "# initial conditions\n",
    "ics = {x(0): 2, x(t).diff(t).subs(t, 0): 3}"
   ]
  },
  {
   "cell_type": "code",
   "execution_count": 10,
   "id": "8d494461",
   "metadata": {},
   "outputs": [
    {
     "data": {
      "text/latex": [
       "$\\displaystyle \\left\\{ x{\\left(0 \\right)} : 2, \\  \\left. \\frac{d}{d t} x{\\left(t \\right)} \\right|_{\\substack{ t=0 }} : 3\\right\\}$"
      ],
      "text/plain": [
       "⎧         ⎛d       ⎞│      ⎫\n",
       "⎨x(0): 2, ⎜──(x(t))⎟│   : 3⎬\n",
       "⎩         ⎝dt      ⎠│t=0   ⎭"
      ]
     },
     "execution_count": 10,
     "metadata": {},
     "output_type": "execute_result"
    }
   ],
   "source": [
    "ics"
   ]
  },
  {
   "cell_type": "code",
   "execution_count": 11,
   "id": "8c019152",
   "metadata": {},
   "outputs": [],
   "source": [
    "ode_sol = sympy.dsolve(ode,ics=ics)"
   ]
  },
  {
   "cell_type": "code",
   "execution_count": 12,
   "id": "11cf0189",
   "metadata": {},
   "outputs": [
    {
     "data": {
      "image/png": "[encoded data removed]",
      "text/latex": [
       "$\\displaystyle x{\\left(t \\right)} = \\frac{\\left(2 \\omega_{0} - 3 i\\right) e^{i \\omega_{0} t}}{2 \\omega_{0}} + \\frac{\\left(2 \\omega_{0} + 3 i\\right) e^{- i \\omega_{0} t}}{2 \\omega_{0}}$"
      ],
      "text/plain": [
       "                     ⅈ⋅ω₀⋅t                 -ⅈ⋅ω₀⋅t\n",
       "       (2⋅ω₀ - 3⋅ⅈ)⋅ℯ         (2⋅ω₀ + 3⋅ⅈ)⋅ℯ       \n",
       "x(t) = ──────────────────── + ─────────────────────\n",
       "               2⋅ω₀                    2⋅ω₀        "
      ]
     },
     "execution_count": 12,
     "metadata": {
      "filenames": {
       "image/png": "/Users/bwinjum/git/JB-numerical-python/_build/jupyter_execute/ODE-symbolicmath_14_0.png"
      }
     },
     "output_type": "execute_result"
    }
   ],
   "source": [
    "ode_sol"
   ]
  },
  {
   "cell_type": "code",
   "execution_count": 13,
   "id": "b4facefd",
   "metadata": {},
   "outputs": [
    {
     "data": {
      "image/png": "[encoded data removed]",
      "text/latex": [
       "$\\displaystyle x{\\left(t \\right)} = 2 \\cos{\\left(\\omega_{0} t \\right)} + \\frac{3 \\sin{\\left(\\omega_{0} t \\right)}}{\\omega_{0}}$"
      ],
      "text/plain": [
       "                     3⋅sin(ω₀⋅t)\n",
       "x(t) = 2⋅cos(ω₀⋅t) + ───────────\n",
       "                          ω₀    "
      ]
     },
     "execution_count": 13,
     "metadata": {
      "filenames": {
       "image/png": "/Users/bwinjum/git/JB-numerical-python/_build/jupyter_execute/ODE-symbolicmath_15_0.png"
      }
     },
     "output_type": "execute_result"
    }
   ],
   "source": [
    "ode_sol.rewrite(sympy.cos).simplify()"
   ]
  },
  {
   "cell_type": "code",
   "execution_count": 14,
   "id": "eb19bf0b",
   "metadata": {},
   "outputs": [
    {
     "data": {
      "text/latex": [
       "$\\displaystyle \\left\\{ x{\\left(0 \\right)} : 2, \\  \\left. \\frac{d}{d t} x{\\left(t \\right)} \\right|_{\\substack{ t=0 }} : 3\\right\\}$"
      ],
      "text/plain": [
       "⎧         ⎛d       ⎞│      ⎫\n",
       "⎨x(0): 2, ⎜──(x(t))⎟│   : 3⎬\n",
       "⎩         ⎝dt      ⎠│t=0   ⎭"
      ]
     },
     "execution_count": 14,
     "metadata": {},
     "output_type": "execute_result"
    }
   ],
   "source": [
    "ics"
   ]
  },
  {
   "cell_type": "code",
   "execution_count": 15,
   "id": "337fcacd",
   "metadata": {},
   "outputs": [],
   "source": [
    "ode_sol = sympy.dsolve(ode)"
   ]
  },
  {
   "cell_type": "code",
   "execution_count": 16,
   "id": "c6fdf477",
   "metadata": {},
   "outputs": [
    {
     "data": {
      "image/png": "[encoded data removed]",
      "text/latex": [
       "$\\displaystyle x{\\left(t \\right)} = C_{1} e^{- i \\omega_{0} t} + C_{2} e^{i \\omega_{0} t}$"
      ],
      "text/plain": [
       "           -ⅈ⋅ω₀⋅t       ⅈ⋅ω₀⋅t\n",
       "x(t) = C₁⋅ℯ        + C₂⋅ℯ      "
      ]
     },
     "execution_count": 16,
     "metadata": {
      "filenames": {
       "image/png": "/Users/bwinjum/git/JB-numerical-python/_build/jupyter_execute/ODE-symbolicmath_18_0.png"
      }
     },
     "output_type": "execute_result"
    }
   ],
   "source": [
    "ode_sol"
   ]
  },
  {
   "cell_type": "code",
   "execution_count": 17,
   "id": "07a730e9",
   "metadata": {},
   "outputs": [
    {
     "data": {
      "image/png": "[encoded data removed]",
      "text/latex": [
       "$\\displaystyle \\left\\{C_{1}, C_{2}, \\omega_{0}, t\\right\\}$"
      ],
      "text/plain": [
       "{C₁, C₂, ω₀, t}"
      ]
     },
     "execution_count": 17,
     "metadata": {
      "filenames": {
       "image/png": "/Users/bwinjum/git/JB-numerical-python/_build/jupyter_execute/ODE-symbolicmath_19_0.png"
      }
     },
     "output_type": "execute_result"
    }
   ],
   "source": [
    "ode_sol.free_symbols"
   ]
  },
  {
   "cell_type": "code",
   "execution_count": 18,
   "id": "b48228b7",
   "metadata": {},
   "outputs": [
    {
     "data": {
      "image/png": "[encoded data removed]",
      "text/latex": [
       "$\\displaystyle \\left\\{C_{1}, C_{2}, t\\right\\}$"
      ],
      "text/plain": [
       "{C₁, C₂, t}"
      ]
     },
     "execution_count": 18,
     "metadata": {
      "filenames": {
       "image/png": "/Users/bwinjum/git/JB-numerical-python/_build/jupyter_execute/ODE-symbolicmath_20_0.png"
      }
     },
     "output_type": "execute_result"
    }
   ],
   "source": [
    "ode_sol.free_symbols - {omega0}"
   ]
  },
  {
   "cell_type": "code",
   "execution_count": 19,
   "id": "c6292ee2",
   "metadata": {},
   "outputs": [
    {
     "data": {
      "image/png": "[encoded data removed]",
      "text/latex": [
       "$\\displaystyle - C_{1} - C_{2} + x{\\left(0 \\right)}$"
      ],
      "text/plain": [
       "-C₁ - C₂ + x(0)"
      ]
     },
     "execution_count": 19,
     "metadata": {
      "filenames": {
       "image/png": "/Users/bwinjum/git/JB-numerical-python/_build/jupyter_execute/ODE-symbolicmath_21_0.png"
      }
     },
     "output_type": "execute_result"
    }
   ],
   "source": [
    "(ode_sol.lhs.diff(t,0) - ode_sol.rhs.diff(t,0)).subs(t,0)"
   ]
  },
  {
   "cell_type": "code",
   "execution_count": 20,
   "id": "c0470be3",
   "metadata": {},
   "outputs": [
    {
     "data": {
      "image/png": "[encoded data removed]",
      "text/latex": [
       "$\\displaystyle - C_{1} - C_{2} + 2$"
      ],
      "text/plain": [
       "-C₁ - C₂ + 2"
      ]
     },
     "execution_count": 20,
     "metadata": {
      "filenames": {
       "image/png": "/Users/bwinjum/git/JB-numerical-python/_build/jupyter_execute/ODE-symbolicmath_22_0.png"
      }
     },
     "output_type": "execute_result"
    }
   ],
   "source": [
    "(ode_sol.lhs.diff(t,0) - ode_sol.rhs.diff(t,0)).subs(t,0).subs(ics)"
   ]
  },
  {
   "cell_type": "code",
   "execution_count": 21,
   "id": "3aeca93c",
   "metadata": {},
   "outputs": [
    {
     "data": {
      "text/latex": [
       "$\\displaystyle i C_{1} \\omega_{0} - i C_{2} \\omega_{0} + \\left. \\frac{d}{d t} x{\\left(t \\right)} \\right|_{\\substack{ t=0 }}$"
      ],
      "text/plain": [
       "                    ⎛d       ⎞│   \n",
       "ⅈ⋅C₁⋅ω₀ - ⅈ⋅C₂⋅ω₀ + ⎜──(x(t))⎟│   \n",
       "                    ⎝dt      ⎠│t=0"
      ]
     },
     "execution_count": 21,
     "metadata": {},
     "output_type": "execute_result"
    }
   ],
   "source": [
    "(ode_sol.lhs.diff(t,1) - ode_sol.rhs.diff(t,1)).subs(t,0)"
   ]
  },
  {
   "cell_type": "code",
   "execution_count": 22,
   "id": "019a721b",
   "metadata": {},
   "outputs": [
    {
     "data": {
      "image/png": "[encoded data removed]",
      "text/latex": [
       "$\\displaystyle i C_{1} \\omega_{0} - i C_{2} \\omega_{0} + 3$"
      ],
      "text/plain": [
       "ⅈ⋅C₁⋅ω₀ - ⅈ⋅C₂⋅ω₀ + 3"
      ]
     },
     "execution_count": 22,
     "metadata": {
      "filenames": {
       "image/png": "/Users/bwinjum/git/JB-numerical-python/_build/jupyter_execute/ODE-symbolicmath_24_0.png"
      }
     },
     "output_type": "execute_result"
    }
   ],
   "source": [
    "(ode_sol.lhs.diff(t,1) - ode_sol.rhs.diff(t,1)).subs(t,0).subs(ics)"
   ]
  },
  {
   "cell_type": "code",
   "execution_count": 23,
   "id": "7ff9143a",
   "metadata": {},
   "outputs": [],
   "source": [
    "eqs = [(ode_sol.lhs.diff(t, n) - ode_sol.rhs.diff(t, n)).subs(t, 0).subs(ics)\n",
    "       for n in range(len(ics))]"
   ]
  },
  {
   "cell_type": "code",
   "execution_count": 24,
   "id": "ab250315",
   "metadata": {},
   "outputs": [
    {
     "data": {
      "image/png": "[encoded data removed]",
      "text/latex": [
       "$\\displaystyle \\left[ - C_{1} - C_{2} + 2, \\  i C_{1} \\omega_{0} - i C_{2} \\omega_{0} + 3\\right]$"
      ],
      "text/plain": [
       "[-C₁ - C₂ + 2, ⅈ⋅C₁⋅ω₀ - ⅈ⋅C₂⋅ω₀ + 3]"
      ]
     },
     "execution_count": 24,
     "metadata": {
      "filenames": {
       "image/png": "/Users/bwinjum/git/JB-numerical-python/_build/jupyter_execute/ODE-symbolicmath_26_0.png"
      }
     },
     "output_type": "execute_result"
    }
   ],
   "source": [
    "eqs"
   ]
  },
  {
   "cell_type": "code",
   "execution_count": 25,
   "id": "9c41e52f",
   "metadata": {},
   "outputs": [
    {
     "data": {
      "image/png": "[encoded data removed]",
      "text/latex": [
       "$\\displaystyle \\left\\{C_{1}, C_{2}, t\\right\\}$"
      ],
      "text/plain": [
       "{C₁, C₂, t}"
      ]
     },
     "execution_count": 25,
     "metadata": {
      "filenames": {
       "image/png": "/Users/bwinjum/git/JB-numerical-python/_build/jupyter_execute/ODE-symbolicmath_27_0.png"
      }
     },
     "output_type": "execute_result"
    }
   ],
   "source": [
    "ode_sol.free_symbols - {omega0}"
   ]
  },
  {
   "cell_type": "code",
   "execution_count": 26,
   "id": "c994015c",
   "metadata": {},
   "outputs": [
    {
     "data": {
      "image/png": "[encoded data removed]",
      "text/latex": [
       "$\\displaystyle \\left\\{ C_{1} : \\frac{2 \\omega_{0} + 3 i}{2 \\omega_{0}}, \\  C_{2} : \\frac{2 \\omega_{0} - 3 i}{2 \\omega_{0}}\\right\\}$"
      ],
      "text/plain": [
       "⎧    2⋅ω₀ + 3⋅ⅈ      2⋅ω₀ - 3⋅ⅈ⎫\n",
       "⎨C₁: ──────────, C₂: ──────────⎬\n",
       "⎩       2⋅ω₀            2⋅ω₀   ⎭"
      ]
     },
     "execution_count": 26,
     "metadata": {
      "filenames": {
       "image/png": "/Users/bwinjum/git/JB-numerical-python/_build/jupyter_execute/ODE-symbolicmath_28_0.png"
      }
     },
     "output_type": "execute_result"
    }
   ],
   "source": [
    "sympy.solve(eqs, ode_sol.free_symbols - set([omega0]))"
   ]
  },
  {
   "cell_type": "code",
   "execution_count": 27,
   "id": "96708094",
   "metadata": {},
   "outputs": [],
   "source": [
    "sol_params = sympy.solve(eqs, ode_sol.free_symbols - set([omega0]))"
   ]
  },
  {
   "cell_type": "code",
   "execution_count": 28,
   "id": "f8fac590",
   "metadata": {},
   "outputs": [],
   "source": [
    "x_t_sol = ode_sol.subs(sol_params)"
   ]
  },
  {
   "cell_type": "code",
   "execution_count": 29,
   "id": "0fc9ae5b",
   "metadata": {},
   "outputs": [
    {
     "data": {
      "image/png": "[encoded data removed]",
      "text/latex": [
       "$\\displaystyle x{\\left(t \\right)} = \\frac{\\left(2 \\omega_{0} - 3 i\\right) e^{i \\omega_{0} t}}{2 \\omega_{0}} + \\frac{\\left(2 \\omega_{0} + 3 i\\right) e^{- i \\omega_{0} t}}{2 \\omega_{0}}$"
      ],
      "text/plain": [
       "                     ⅈ⋅ω₀⋅t                 -ⅈ⋅ω₀⋅t\n",
       "       (2⋅ω₀ - 3⋅ⅈ)⋅ℯ         (2⋅ω₀ + 3⋅ⅈ)⋅ℯ       \n",
       "x(t) = ──────────────────── + ─────────────────────\n",
       "               2⋅ω₀                    2⋅ω₀        "
      ]
     },
     "execution_count": 29,
     "metadata": {
      "filenames": {
       "image/png": "/Users/bwinjum/git/JB-numerical-python/_build/jupyter_execute/ODE-symbolicmath_31_0.png"
      }
     },
     "output_type": "execute_result"
    }
   ],
   "source": [
    "x_t_sol"
   ]
  },
  {
   "cell_type": "code",
   "execution_count": 30,
   "id": "185c6331",
   "metadata": {},
   "outputs": [
    {
     "data": {
      "image/png": "[encoded data removed]",
      "text/latex": [
       "$\\displaystyle x{\\left(t \\right)} = 2 \\cos{\\left(\\omega_{0} t \\right)} + \\frac{3 \\sin{\\left(\\omega_{0} t \\right)}}{\\omega_{0}}$"
      ],
      "text/plain": [
       "                     3⋅sin(ω₀⋅t)\n",
       "x(t) = 2⋅cos(ω₀⋅t) + ───────────\n",
       "                          ω₀    "
      ]
     },
     "execution_count": 30,
     "metadata": {
      "filenames": {
       "image/png": "/Users/bwinjum/git/JB-numerical-python/_build/jupyter_execute/ODE-symbolicmath_32_0.png"
      }
     },
     "output_type": "execute_result"
    }
   ],
   "source": [
    "x_t_sol.rewrite(sympy.cos).simplify()"
   ]
  },
  {
   "cell_type": "markdown",
   "id": "0cb71cbd",
   "metadata": {},
   "source": [
    "Let's use lambdify to plot: \"The primary purpose of this function [lambdify] is to provide a bridge from SymPy expressions to numerical libraries such as NumPy, SciPy, NumExpr, mpmath, and tensorflow.\""
   ]
  },
  {
   "cell_type": "code",
   "execution_count": 31,
   "id": "b84f9cc7",
   "metadata": {},
   "outputs": [],
   "source": [
    "square = sympy.lambdify(t, t**2)"
   ]
  },
  {
   "cell_type": "code",
   "execution_count": 32,
   "id": "d52f55f9",
   "metadata": {},
   "outputs": [
    {
     "data": {
      "image/png": "[encoded data removed]",
      "text/latex": [
       "$\\displaystyle 36$"
      ],
      "text/plain": [
       "36"
      ]
     },
     "execution_count": 32,
     "metadata": {
      "filenames": {
       "image/png": "/Users/bwinjum/git/JB-numerical-python/_build/jupyter_execute/ODE-symbolicmath_35_0.png"
      }
     },
     "output_type": "execute_result"
    }
   ],
   "source": [
    "square(6)"
   ]
  },
  {
   "cell_type": "code",
   "execution_count": 33,
   "id": "7de0bcfc",
   "metadata": {},
   "outputs": [
    {
     "data": {
      "text/plain": [
       "array([0.        , 0.11111111, 0.22222222, 0.33333333, 0.44444444,\n",
       "       0.55555556, 0.66666667, 0.77777778, 0.88888889, 1.        ])"
      ]
     },
     "execution_count": 33,
     "metadata": {},
     "output_type": "execute_result"
    }
   ],
   "source": [
    "np.linspace(0,1,10)"
   ]
  },
  {
   "cell_type": "code",
   "execution_count": 34,
   "id": "b8471250",
   "metadata": {},
   "outputs": [
    {
     "data": {
      "text/plain": [
       "array([0.        , 0.01234568, 0.04938272, 0.11111111, 0.19753086,\n",
       "       0.30864198, 0.44444444, 0.60493827, 0.79012346, 1.        ])"
      ]
     },
     "execution_count": 34,
     "metadata": {},
     "output_type": "execute_result"
    }
   ],
   "source": [
    "square(np.linspace(0,1,10))"
   ]
  },
  {
   "cell_type": "code",
   "execution_count": 35,
   "id": "6a41e647",
   "metadata": {},
   "outputs": [],
   "source": [
    "sympy.lambdify?"
   ]
  },
  {
   "cell_type": "code",
   "execution_count": 36,
   "id": "d2f127b7",
   "metadata": {},
   "outputs": [],
   "source": [
    "expr_func = sympy.lambdify(t, x_t_sol.rhs.subs(omega0,1), 'numpy')"
   ]
  },
  {
   "cell_type": "code",
   "execution_count": 37,
   "id": "7a9fac46",
   "metadata": {},
   "outputs": [],
   "source": [
    "xvalues = np.linspace(0, 10, 30)"
   ]
  },
  {
   "cell_type": "code",
   "execution_count": 38,
   "id": "a4860870",
   "metadata": {},
   "outputs": [
    {
     "data": {
      "text/plain": [
       "array([ 2.        +0.j,  2.89637075+0.j,  3.45174452+0.j,  3.60073577+0.j,\n",
       "        3.32580338+0.j,  2.65931584+0.j,  1.67974038+0.j,  0.50240489+0.j,\n",
       "       -0.73407999+0.j, -1.8841398 +0.j, -2.81237511+0.j, -3.40950246+0.j,\n",
       "       -3.60522055+0.j, -3.376487  +0.j, -2.75023118+0.j, -1.80018376+0.j,\n",
       "       -0.63819621+0.j,  0.59892779+0.j,  1.76553852+0.j,  2.72428797+0.j,\n",
       "        3.36230019+0.j,  3.60446039+0.j,  3.42225844+0.j,  2.83714544+0.j,\n",
       "        1.91800821+0.j,  0.77305907+0.j, -0.46290426+0.j, -1.6443687 +0.j,\n",
       "       -2.6322375 +0.j, -3.31020639+0.j])"
      ]
     },
     "execution_count": 38,
     "metadata": {},
     "output_type": "execute_result"
    }
   ],
   "source": [
    "expr_func(xvalues)"
   ]
  },
  {
   "cell_type": "code",
   "execution_count": 39,
   "id": "de3d8fc2",
   "metadata": {},
   "outputs": [
    {
     "name": "stderr",
     "output_type": "stream",
     "text": [
      "/Users/bwinjum/opt/anaconda3/envs/jb-env/lib/python3.10/site-packages/matplotlib/cbook/__init__.py:1298: ComplexWarning: Casting complex values to real discards the imaginary part\n",
      "  return np.asarray(x, float)\n"
     ]
    },
    {
     "data": {
      "image/png": "[encoded data removed]",
      "text/plain": [
       "<Figure size 432x288 with 1 Axes>"
      ]
     },
     "metadata": {
      "filenames": {
       "image/png": "/Users/bwinjum/git/JB-numerical-python/_build/jupyter_execute/ODE-symbolicmath_42_1.png"
      },
      "needs_background": "light"
     },
     "output_type": "display_data"
    }
   ],
   "source": [
    "plt.plot(xvalues,expr_func(xvalues));"
   ]
  }
 ],
 "metadata": {
  "kernelspec": {
   "display_name": "Python 3 (ipykernel)",
   "language": "python",
   "name": "python3"
  },
  "language_info": {
   "codemirror_mode": {
    "name": "ipython",
    "version": 3
   },
   "file_extension": ".py",
   "mimetype": "text/x-python",
   "name": "python",
   "nbconvert_exporter": "python",
   "pygments_lexer": "ipython3",
   "version": "3.10.5"
  }
 },
 "nbformat": 4,
 "nbformat_minor": 5
}